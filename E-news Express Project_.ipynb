{
 "cells": [
  {
   "cell_type": "markdown",
   "id": "923ce8ff",
   "metadata": {},
   "source": [
    "## Problem Statement\n",
    "An online news portal aims to expand its business by acquiring new subscribers. Every visitor to the website takes certain actions based on their interest. The company plans to analyze these interests and wants to determine whether a new feature will be effective or not. Companies often analyze users' responses to two variants of a product to decide which of the two variants is more effective. This experimental technique is known as a/b testing that is used to determine whether a new feature attracts users based on a chosen metric.\n",
    "I have been assigned the task to decide whether the new landing page is more effective to gather new subscribers. "
   ]
  },
  {
   "cell_type": "markdown",
   "id": "109de31b",
   "metadata": {},
   "source": [
    "# Objectives\n",
    "- Explore the dataset and extract insights using Exploratory Data Analysis.\n",
    "- Do the users spend more time on the new landing page than the old landing page?\n",
    "- Is the conversion rate (the proportion of users who visit the landing page and get converted) for the new page greater than the conversion rate for the old page?\n",
    "- Does the converted status depend on the preferred language? [Hint: Create a contingency table using the pandas.crosstab() function]\n",
    "- Is the mean time spent on the new page same for the different language users?"
   ]
  },
  {
   "cell_type": "markdown",
   "id": "0cdfe605",
   "metadata": {},
   "source": [
    "## Data Dictionary\n",
    "- user_id: This represents the user ID of the person visiting the website.\n",
    "- group: This represents whether the user belongs to the first group (control) or the second group (treatment).\n",
    "- landing_page: This represents whether the landing page is new or old.\n",
    "- time_spent_on_the_page: This represents the time (in minutes) spent by the user on the landing page.\n",
    "- converted: This represents whether the user gets converted to a subscriber of the news portal or not.\n",
    "- language_preferred: This represents the language chosen by the user to view the landing page."
   ]
  },
  {
   "cell_type": "markdown",
   "id": "4a386af2",
   "metadata": {},
   "source": [
    "### Importing the necessary libraries"
   ]
  },
  {
   "cell_type": "code",
   "execution_count": 1,
   "id": "9fd5c3e8",
   "metadata": {},
   "outputs": [],
   "source": [
    "# import modules\n",
    "import pandas as pd # library used for data manipulation and analysis\n",
    "import numpy as np # library used for working with arrays\n",
    "import matplotlib.pyplot as plt # library for plots and visualizations\n",
    "import seaborn as sns # library for visualizations\n",
    "\n",
    "import scipy.stats as stats  # this library contains a large number of probability distributions as well as a growing library of statistical functions\n",
    "\n",
    "import warnings # to remove/supress output warnings\n",
    "warnings.filterwarnings (\"ignore\")\n",
    "\n",
    "%matplotlib inline\n",
    "sns.set(color_codes=True) # adding a nice background\n",
    "\n",
    "import os"
   ]
  },
  {
   "cell_type": "code",
   "execution_count": 2,
   "id": "9a81f481",
   "metadata": {},
   "outputs": [
    {
     "data": {
      "text/plain": [
       "'/Users/chydynma/University Of Texas'"
      ]
     },
     "execution_count": 2,
     "metadata": {},
     "output_type": "execute_result"
    }
   ],
   "source": [
    "# get current working directory\n",
    "os.getcwd()"
   ]
  },
  {
   "cell_type": "markdown",
   "id": "0b3b128f",
   "metadata": {},
   "source": [
    "### Reading the data into a dataframe"
   ]
  },
  {
   "cell_type": "code",
   "execution_count": 3,
   "id": "5a3b606f",
   "metadata": {},
   "outputs": [
    {
     "data": {
      "text/html": [
       "<div>\n",
       "<style scoped>\n",
       "    .dataframe tbody tr th:only-of-type {\n",
       "        vertical-align: middle;\n",
       "    }\n",
       "\n",
       "    .dataframe tbody tr th {\n",
       "        vertical-align: top;\n",
       "    }\n",
       "\n",
       "    .dataframe thead th {\n",
       "        text-align: right;\n",
       "    }\n",
       "</style>\n",
       "<table border=\"1\" class=\"dataframe\">\n",
       "  <thead>\n",
       "    <tr style=\"text-align: right;\">\n",
       "      <th></th>\n",
       "      <th>user_id</th>\n",
       "      <th>group</th>\n",
       "      <th>landing_page</th>\n",
       "      <th>time_spent_on_the_page</th>\n",
       "      <th>converted</th>\n",
       "      <th>language_preferred</th>\n",
       "    </tr>\n",
       "  </thead>\n",
       "  <tbody>\n",
       "    <tr>\n",
       "      <th>0</th>\n",
       "      <td>546592</td>\n",
       "      <td>control</td>\n",
       "      <td>old</td>\n",
       "      <td>3.48</td>\n",
       "      <td>no</td>\n",
       "      <td>Spanish</td>\n",
       "    </tr>\n",
       "    <tr>\n",
       "      <th>1</th>\n",
       "      <td>546468</td>\n",
       "      <td>treatment</td>\n",
       "      <td>new</td>\n",
       "      <td>7.13</td>\n",
       "      <td>yes</td>\n",
       "      <td>English</td>\n",
       "    </tr>\n",
       "    <tr>\n",
       "      <th>2</th>\n",
       "      <td>546462</td>\n",
       "      <td>treatment</td>\n",
       "      <td>new</td>\n",
       "      <td>4.40</td>\n",
       "      <td>no</td>\n",
       "      <td>Spanish</td>\n",
       "    </tr>\n",
       "    <tr>\n",
       "      <th>3</th>\n",
       "      <td>546567</td>\n",
       "      <td>control</td>\n",
       "      <td>old</td>\n",
       "      <td>3.02</td>\n",
       "      <td>no</td>\n",
       "      <td>French</td>\n",
       "    </tr>\n",
       "    <tr>\n",
       "      <th>4</th>\n",
       "      <td>546459</td>\n",
       "      <td>treatment</td>\n",
       "      <td>new</td>\n",
       "      <td>4.75</td>\n",
       "      <td>yes</td>\n",
       "      <td>Spanish</td>\n",
       "    </tr>\n",
       "  </tbody>\n",
       "</table>\n",
       "</div>"
      ],
      "text/plain": [
       "   user_id      group landing_page  time_spent_on_the_page converted  \\\n",
       "0   546592    control          old                    3.48        no   \n",
       "1   546468  treatment          new                    7.13       yes   \n",
       "2   546462  treatment          new                    4.40        no   \n",
       "3   546567    control          old                    3.02        no   \n",
       "4   546459  treatment          new                    4.75       yes   \n",
       "\n",
       "  language_preferred  \n",
       "0            Spanish  \n",
       "1            English  \n",
       "2            Spanish  \n",
       "3             French  \n",
       "4            Spanish  "
      ]
     },
     "execution_count": 3,
     "metadata": {},
     "output_type": "execute_result"
    }
   ],
   "source": [
    "df=pd.read_csv('/Users/chydynma/Downloads/abtest.csv')\n",
    "df.head() # view the first five rows of the dataset"
   ]
  },
  {
   "cell_type": "code",
   "execution_count": 4,
   "id": "8fa8ec95",
   "metadata": {},
   "outputs": [
    {
     "data": {
      "text/plain": [
       "(100, 6)"
      ]
     },
     "execution_count": 4,
     "metadata": {},
     "output_type": "execute_result"
    }
   ],
   "source": [
    "# shape of the dataset\n",
    "df.shape"
   ]
  },
  {
   "cell_type": "markdown",
   "id": "38ca4464",
   "metadata": {},
   "source": [
    "* The dataset contains 100 rows and 6 columns"
   ]
  },
  {
   "cell_type": "code",
   "execution_count": 5,
   "id": "590ab41f",
   "metadata": {},
   "outputs": [
    {
     "name": "stdout",
     "output_type": "stream",
     "text": [
      "Number of unique users is : 100\n"
     ]
    }
   ],
   "source": [
    "#use unique() function\n",
    "user_total = df.nunique()['user_id']\n",
    "print(\"Number of unique users is : {}\".format(user_total))"
   ]
  },
  {
   "cell_type": "code",
   "execution_count": 6,
   "id": "5c8432c6",
   "metadata": {},
   "outputs": [
    {
     "name": "stdout",
     "output_type": "stream",
     "text": [
      "<class 'pandas.core.frame.DataFrame'>\n",
      "RangeIndex: 100 entries, 0 to 99\n",
      "Data columns (total 6 columns):\n",
      " #   Column                  Non-Null Count  Dtype  \n",
      "---  ------                  --------------  -----  \n",
      " 0   user_id                 100 non-null    int64  \n",
      " 1   group                   100 non-null    object \n",
      " 2   landing_page            100 non-null    object \n",
      " 3   time_spent_on_the_page  100 non-null    float64\n",
      " 4   converted               100 non-null    object \n",
      " 5   language_preferred      100 non-null    object \n",
      "dtypes: float64(1), int64(1), object(4)\n",
      "memory usage: 4.8+ KB\n"
     ]
    }
   ],
   "source": [
    "# information about the columns in the dataset\n",
    "df.info()"
   ]
  },
  {
   "cell_type": "markdown",
   "id": "bed73aa8",
   "metadata": {},
   "source": [
    "* The group, landing_page, converted, language_preferred are catergorical while user_id and time_spent_on_the_page is numerical."
   ]
  },
  {
   "cell_type": "code",
   "execution_count": 7,
   "id": "ba0bbc35",
   "metadata": {},
   "outputs": [],
   "source": [
    "# replacing yes and no under converted to 1 and 0. This will change the data type for easier manipulation.\n",
    "df.converted.replace(('yes', 'no'), (1, 0), inplace=True)"
   ]
  },
  {
   "cell_type": "code",
   "execution_count": 8,
   "id": "d08565c4",
   "metadata": {},
   "outputs": [
    {
     "data": {
      "text/html": [
       "<div>\n",
       "<style scoped>\n",
       "    .dataframe tbody tr th:only-of-type {\n",
       "        vertical-align: middle;\n",
       "    }\n",
       "\n",
       "    .dataframe tbody tr th {\n",
       "        vertical-align: top;\n",
       "    }\n",
       "\n",
       "    .dataframe thead th {\n",
       "        text-align: right;\n",
       "    }\n",
       "</style>\n",
       "<table border=\"1\" class=\"dataframe\">\n",
       "  <thead>\n",
       "    <tr style=\"text-align: right;\">\n",
       "      <th></th>\n",
       "      <th>user_id</th>\n",
       "      <th>group</th>\n",
       "      <th>landing_page</th>\n",
       "      <th>time_spent_on_the_page</th>\n",
       "      <th>converted</th>\n",
       "      <th>language_preferred</th>\n",
       "    </tr>\n",
       "  </thead>\n",
       "  <tbody>\n",
       "    <tr>\n",
       "      <th>0</th>\n",
       "      <td>546592</td>\n",
       "      <td>control</td>\n",
       "      <td>old</td>\n",
       "      <td>3.48</td>\n",
       "      <td>0</td>\n",
       "      <td>Spanish</td>\n",
       "    </tr>\n",
       "    <tr>\n",
       "      <th>1</th>\n",
       "      <td>546468</td>\n",
       "      <td>treatment</td>\n",
       "      <td>new</td>\n",
       "      <td>7.13</td>\n",
       "      <td>1</td>\n",
       "      <td>English</td>\n",
       "    </tr>\n",
       "    <tr>\n",
       "      <th>2</th>\n",
       "      <td>546462</td>\n",
       "      <td>treatment</td>\n",
       "      <td>new</td>\n",
       "      <td>4.40</td>\n",
       "      <td>0</td>\n",
       "      <td>Spanish</td>\n",
       "    </tr>\n",
       "    <tr>\n",
       "      <th>3</th>\n",
       "      <td>546567</td>\n",
       "      <td>control</td>\n",
       "      <td>old</td>\n",
       "      <td>3.02</td>\n",
       "      <td>0</td>\n",
       "      <td>French</td>\n",
       "    </tr>\n",
       "    <tr>\n",
       "      <th>4</th>\n",
       "      <td>546459</td>\n",
       "      <td>treatment</td>\n",
       "      <td>new</td>\n",
       "      <td>4.75</td>\n",
       "      <td>1</td>\n",
       "      <td>Spanish</td>\n",
       "    </tr>\n",
       "  </tbody>\n",
       "</table>\n",
       "</div>"
      ],
      "text/plain": [
       "   user_id      group landing_page  time_spent_on_the_page  converted  \\\n",
       "0   546592    control          old                    3.48          0   \n",
       "1   546468  treatment          new                    7.13          1   \n",
       "2   546462  treatment          new                    4.40          0   \n",
       "3   546567    control          old                    3.02          0   \n",
       "4   546459  treatment          new                    4.75          1   \n",
       "\n",
       "  language_preferred  \n",
       "0            Spanish  \n",
       "1            English  \n",
       "2            Spanish  \n",
       "3             French  \n",
       "4            Spanish  "
      ]
     },
     "execution_count": 8,
     "metadata": {},
     "output_type": "execute_result"
    }
   ],
   "source": [
    "# view first 5 rows \n",
    "df.head()"
   ]
  },
  {
   "cell_type": "code",
   "execution_count": 9,
   "id": "776aaf0e",
   "metadata": {},
   "outputs": [
    {
     "name": "stdout",
     "output_type": "stream",
     "text": [
      "<class 'pandas.core.frame.DataFrame'>\n",
      "RangeIndex: 100 entries, 0 to 99\n",
      "Data columns (total 6 columns):\n",
      " #   Column                  Non-Null Count  Dtype  \n",
      "---  ------                  --------------  -----  \n",
      " 0   user_id                 100 non-null    int64  \n",
      " 1   group                   100 non-null    object \n",
      " 2   landing_page            100 non-null    object \n",
      " 3   time_spent_on_the_page  100 non-null    float64\n",
      " 4   converted               100 non-null    int64  \n",
      " 5   language_preferred      100 non-null    object \n",
      "dtypes: float64(1), int64(2), object(3)\n",
      "memory usage: 4.8+ KB\n"
     ]
    }
   ],
   "source": [
    "# display the data type of columns\n",
    "df.info()"
   ]
  },
  {
   "cell_type": "markdown",
   "id": "98ece286",
   "metadata": {},
   "source": [
    "* Converted column has changed from object to int64 data type i.e from category to numerical column."
   ]
  },
  {
   "cell_type": "code",
   "execution_count": 10,
   "id": "f616c0aa",
   "metadata": {},
   "outputs": [
    {
     "name": "stdout",
     "output_type": "stream",
     "text": [
      "Converted users proportion is 54.0%\n"
     ]
    }
   ],
   "source": [
    "# we can find proportion of users converted by taking mean since values are 1 and 0\n",
    "print(\"Converted users proportion is {}%\".format((df['converted'].mean())*100))"
   ]
  },
  {
   "cell_type": "markdown",
   "id": "c236d0c8",
   "metadata": {},
   "source": [
    "* The proportion of users converted is 54%"
   ]
  },
  {
   "cell_type": "code",
   "execution_count": 11,
   "id": "75b7187f",
   "metadata": {},
   "outputs": [
    {
     "name": "stdout",
     "output_type": "stream",
     "text": [
      "user_id                   0\n",
      "group                     0\n",
      "landing_page              0\n",
      "time_spent_on_the_page    0\n",
      "converted                 0\n",
      "language_preferred        0\n",
      "dtype: int64\n",
      "0\n"
     ]
    }
   ],
   "source": [
    "# Checking for missing and duplicated values.\n",
    "\n",
    "print(df.isnull().sum())\n",
    "print(df.duplicated().sum())"
   ]
  },
  {
   "cell_type": "markdown",
   "id": "e0a03b00",
   "metadata": {},
   "source": [
    "* There are no missing values or dulipicates in the dataset"
   ]
  },
  {
   "cell_type": "code",
   "execution_count": 12,
   "id": "296abefc",
   "metadata": {},
   "outputs": [
    {
     "data": {
      "text/html": [
       "<div>\n",
       "<style scoped>\n",
       "    .dataframe tbody tr th:only-of-type {\n",
       "        vertical-align: middle;\n",
       "    }\n",
       "\n",
       "    .dataframe tbody tr th {\n",
       "        vertical-align: top;\n",
       "    }\n",
       "\n",
       "    .dataframe thead th {\n",
       "        text-align: right;\n",
       "    }\n",
       "</style>\n",
       "<table border=\"1\" class=\"dataframe\">\n",
       "  <thead>\n",
       "    <tr style=\"text-align: right;\">\n",
       "      <th></th>\n",
       "      <th>user_id</th>\n",
       "      <th>time_spent_on_the_page</th>\n",
       "      <th>converted</th>\n",
       "    </tr>\n",
       "  </thead>\n",
       "  <tbody>\n",
       "    <tr>\n",
       "      <th>count</th>\n",
       "      <td>100.000000</td>\n",
       "      <td>100.000000</td>\n",
       "      <td>100.000000</td>\n",
       "    </tr>\n",
       "    <tr>\n",
       "      <th>mean</th>\n",
       "      <td>546517.000000</td>\n",
       "      <td>5.377800</td>\n",
       "      <td>0.540000</td>\n",
       "    </tr>\n",
       "    <tr>\n",
       "      <th>std</th>\n",
       "      <td>52.295779</td>\n",
       "      <td>2.378166</td>\n",
       "      <td>0.500908</td>\n",
       "    </tr>\n",
       "    <tr>\n",
       "      <th>min</th>\n",
       "      <td>546443.000000</td>\n",
       "      <td>0.190000</td>\n",
       "      <td>0.000000</td>\n",
       "    </tr>\n",
       "    <tr>\n",
       "      <th>25%</th>\n",
       "      <td>546467.750000</td>\n",
       "      <td>3.880000</td>\n",
       "      <td>0.000000</td>\n",
       "    </tr>\n",
       "    <tr>\n",
       "      <th>50%</th>\n",
       "      <td>546492.500000</td>\n",
       "      <td>5.415000</td>\n",
       "      <td>1.000000</td>\n",
       "    </tr>\n",
       "    <tr>\n",
       "      <th>75%</th>\n",
       "      <td>546567.250000</td>\n",
       "      <td>7.022500</td>\n",
       "      <td>1.000000</td>\n",
       "    </tr>\n",
       "    <tr>\n",
       "      <th>max</th>\n",
       "      <td>546592.000000</td>\n",
       "      <td>10.710000</td>\n",
       "      <td>1.000000</td>\n",
       "    </tr>\n",
       "  </tbody>\n",
       "</table>\n",
       "</div>"
      ],
      "text/plain": [
       "             user_id  time_spent_on_the_page   converted\n",
       "count     100.000000              100.000000  100.000000\n",
       "mean   546517.000000                5.377800    0.540000\n",
       "std        52.295779                2.378166    0.500908\n",
       "min    546443.000000                0.190000    0.000000\n",
       "25%    546467.750000                3.880000    0.000000\n",
       "50%    546492.500000                5.415000    1.000000\n",
       "75%    546567.250000                7.022500    1.000000\n",
       "max    546592.000000               10.710000    1.000000"
      ]
     },
     "execution_count": 12,
     "metadata": {},
     "output_type": "execute_result"
    }
   ],
   "source": [
    "# Summary of the numerical variables in the dataset\n",
    "df.describe()"
   ]
  },
  {
   "cell_type": "markdown",
   "id": "e4714b4e",
   "metadata": {},
   "source": [
    "* The average time spent on the landing page by 100users is 5.37 minutes. \n",
    "* This is close to the median which tells us of a normal distribution."
   ]
  },
  {
   "cell_type": "code",
   "execution_count": 13,
   "id": "a52071d4",
   "metadata": {},
   "outputs": [
    {
     "data": {
      "text/html": [
       "<div>\n",
       "<style scoped>\n",
       "    .dataframe tbody tr th:only-of-type {\n",
       "        vertical-align: middle;\n",
       "    }\n",
       "\n",
       "    .dataframe tbody tr th {\n",
       "        vertical-align: top;\n",
       "    }\n",
       "\n",
       "    .dataframe thead th {\n",
       "        text-align: right;\n",
       "    }\n",
       "</style>\n",
       "<table border=\"1\" class=\"dataframe\">\n",
       "  <thead>\n",
       "    <tr style=\"text-align: right;\">\n",
       "      <th></th>\n",
       "      <th>group</th>\n",
       "      <th>landing_page</th>\n",
       "      <th>language_preferred</th>\n",
       "    </tr>\n",
       "  </thead>\n",
       "  <tbody>\n",
       "    <tr>\n",
       "      <th>count</th>\n",
       "      <td>100</td>\n",
       "      <td>100</td>\n",
       "      <td>100</td>\n",
       "    </tr>\n",
       "    <tr>\n",
       "      <th>unique</th>\n",
       "      <td>2</td>\n",
       "      <td>2</td>\n",
       "      <td>3</td>\n",
       "    </tr>\n",
       "    <tr>\n",
       "      <th>top</th>\n",
       "      <td>control</td>\n",
       "      <td>old</td>\n",
       "      <td>Spanish</td>\n",
       "    </tr>\n",
       "    <tr>\n",
       "      <th>freq</th>\n",
       "      <td>50</td>\n",
       "      <td>50</td>\n",
       "      <td>34</td>\n",
       "    </tr>\n",
       "  </tbody>\n",
       "</table>\n",
       "</div>"
      ],
      "text/plain": [
       "          group landing_page language_preferred\n",
       "count       100          100                100\n",
       "unique        2            2                  3\n",
       "top     control          old            Spanish\n",
       "freq         50           50                 34"
      ]
     },
     "execution_count": 13,
     "metadata": {},
     "output_type": "execute_result"
    }
   ],
   "source": [
    "# summary for non-numerical variables\n",
    "df.describe(exclude='number')"
   ]
  },
  {
   "cell_type": "code",
   "execution_count": 14,
   "id": "d020d642",
   "metadata": {},
   "outputs": [
    {
     "name": "stdout",
     "output_type": "stream",
     "text": [
      "5.377800000000002\n"
     ]
    }
   ],
   "source": [
    "# Calculating the mean of time spent on the page\n",
    "\n",
    "print(df['time_spent_on_the_page'].mean())"
   ]
  },
  {
   "cell_type": "markdown",
   "id": "694898da",
   "metadata": {},
   "source": [
    "# 1. Explore the dataset and extract insights using Exploratory Data Analysis (EDA)"
   ]
  },
  {
   "cell_type": "code",
   "execution_count": 15,
   "id": "d30820da",
   "metadata": {},
   "outputs": [
    {
     "data": {
      "image/png": "[encoded data removed]",
      "text/plain": [
       "<Figure size 648x360 with 1 Axes>"
      ]
     },
     "metadata": {},
     "output_type": "display_data"
    }
   ],
   "source": [
    "# Count plot\n",
    "sns.set_palette(\"muted\")\n",
    "plt.figure(figsize=(9,5))\n",
    "ax = sns.countplot(x = 'group', data = df)\n",
    "ax.set_title(\"Group Counts\", fontsize=14);"
   ]
  },
  {
   "cell_type": "markdown",
   "id": "48af6280",
   "metadata": {},
   "source": [
    "* The number of users is the same for control and treatment group."
   ]
  },
  {
   "cell_type": "code",
   "execution_count": 16,
   "id": "09de97e6",
   "metadata": {},
   "outputs": [
    {
     "data": {
      "text/plain": [
       "Text(0.5, 1.0, 'Converted Users vs Landing page')"
      ]
     },
     "execution_count": 16,
     "metadata": {},
     "output_type": "execute_result"
    },
    {
     "data": {
      "image/png": "[encoded data removed]",
      "text/plain": [
       "<Figure size 648x360 with 1 Axes>"
      ]
     },
     "metadata": {},
     "output_type": "display_data"
    }
   ],
   "source": [
    "# count plot based on landing page\n",
    "\n",
    "sns.set_palette(\"muted\")\n",
    "plt.figure(figsize=(9,5))\n",
    "ax = sns.countplot(x = 'converted', data = df, hue = 'landing_page')\n",
    "ax.set_title(\"Converted Users vs Landing page\", fontsize=14)"
   ]
  },
  {
   "cell_type": "markdown",
   "id": "9d868574",
   "metadata": {},
   "source": [
    "* More Users who visited the new page were converted.\n",
    "* While users who were not converted were on the old page."
   ]
  },
  {
   "cell_type": "code",
   "execution_count": 17,
   "id": "ac399a28",
   "metadata": {},
   "outputs": [
    {
     "data": {
      "text/plain": [
       "Text(0.5, 1.0, 'Converted Users vs language_preferred')"
      ]
     },
     "execution_count": 17,
     "metadata": {},
     "output_type": "execute_result"
    },
    {
     "data": {
      "image/png": "[encoded data removed]",
      "text/plain": [
       "<Figure size 648x360 with 1 Axes>"
      ]
     },
     "metadata": {},
     "output_type": "display_data"
    }
   ],
   "source": [
    "# Count plot to show relationship between the converted and the language preferred\n",
    "\n",
    "sns.set_palette(\"Paired\")\n",
    "plt.figure(figsize=(9,5))\n",
    "ax = sns.countplot(x = 'converted', data = df, hue = 'language_preferred')\n",
    "ax.set_title(\"Converted Users vs language_preferred\", fontsize=14)"
   ]
  },
  {
   "cell_type": "markdown",
   "id": "97b89ff1",
   "metadata": {},
   "source": [
    "* More Users with English as their preferred language were converted.\n",
    "* Most Users with French as their language, were not converted. Could it be the new page was not user friendly to French speakers?"
   ]
  },
  {
   "cell_type": "code",
   "execution_count": 18,
   "id": "81cdb427",
   "metadata": {},
   "outputs": [
    {
     "data": {
      "text/plain": [
       "Text(0.5, 1.0, 'Landing Page vs Language Preferred')"
      ]
     },
     "execution_count": 18,
     "metadata": {},
     "output_type": "execute_result"
    },
    {
     "data": {
      "image/png": "[encoded data removed]",
      "text/plain": [
       "<Figure size 720x360 with 1 Axes>"
      ]
     },
     "metadata": {},
     "output_type": "display_data"
    }
   ],
   "source": [
    "# Count plot to show relationship between the converted and the language preferred\n",
    "\n",
    "sns.set_palette(\"Paired\")\n",
    "plt.figure(figsize=(10,5))\n",
    "ax = sns.countplot(x = 'landing_page', data = df, hue = 'language_preferred')\n",
    "ax.set_title(\"Landing Page vs Language Preferred\", fontsize=14)"
   ]
  },
  {
   "cell_type": "markdown",
   "id": "6ef791a0",
   "metadata": {},
   "source": [
    "* Despite the even distribution of users for both old and new page, we see that Spanish and French having the same number of users who are on the old and new page as well."
   ]
  },
  {
   "cell_type": "code",
   "execution_count": 19,
   "id": "14541487",
   "metadata": {},
   "outputs": [],
   "source": [
    "# Function to create barplots that indicate percentage for each category.\n",
    "def bar_perc(plot, feature):\n",
    "    '''\n",
    "    plot\n",
    "    feature: 1-d categorical feature array\n",
    "    '''\n",
    "    total = len(feature) # length of the column\n",
    "    for p in ax.patches:\n",
    "        percentage = '{:.1f}%'.format(100 * p.get_height()/total) # percentage of each class of the category\n",
    "        x = p.get_x() + p.get_width() / 2 - 0.05 # width of the plot\n",
    "        y = p.get_y() + p.get_height()           # hieght of the plot\n",
    "        ax.annotate(percentage, (x, y), size = 12) # annotate the percantage"
   ]
  },
  {
   "cell_type": "code",
   "execution_count": 20,
   "id": "91fffeca",
   "metadata": {},
   "outputs": [
    {
     "data": {
      "image/png": "[encoded data removed]",
      "text/plain": [
       "<Figure size 576x504 with 1 Axes>"
      ]
     },
     "metadata": {},
     "output_type": "display_data"
    }
   ],
   "source": [
    "# Plotting language preferred count and converted\n",
    "\n",
    "plt.figure(figsize=(8,7))\n",
    "sns.set_palette(\"RdYlGn\")\n",
    "ax = sns.countplot(df['language_preferred'], hue=df['converted'])\n",
    "plt.xlabel('language_preferred')\n",
    "plt.ylabel('Count')\n",
    "bar_perc(ax,df['language_preferred'])\n",
    "ax.set_title(\"language_preferred Count\", fontsize=14);"
   ]
  },
  {
   "cell_type": "markdown",
   "id": "1038d284",
   "metadata": {},
   "source": [
    "* User with English as their preferred language have the highest conversion."
   ]
  },
  {
   "cell_type": "code",
   "execution_count": 21,
   "id": "29f3e2ed",
   "metadata": {},
   "outputs": [
    {
     "data": {
      "image/png": "[encoded data removed]",
      "text/plain": [
       "<Figure size 576x504 with 1 Axes>"
      ]
     },
     "metadata": {},
     "output_type": "display_data"
    }
   ],
   "source": [
    "# Plotting percentage of converted user using a pie chart\n",
    "\n",
    "\n",
    "explosion = [0.1,0] # only \"explode\" the 1st slice\n",
    "colors = ['g','b','r'] # set colors for each segment of the pie\n",
    "\n",
    "plt.figure(figsize=(8,7))\n",
    "plt.title('Percentage of Converted Users', fontsize=14) # set plot title\n",
    "Converted_Count = df['converted'].value_counts()\n",
    "plt.pie(Converted_Count, labels = Converted_Count.index, autopct = '%1.f%%', textprops={'fontsize': 14}, startangle=90, \n",
    "        shadow=True, colors=colors, counterclock=True, explode=(explosion))\n",
    "\n",
    "plt.show()"
   ]
  },
  {
   "cell_type": "markdown",
   "id": "0f1b666d",
   "metadata": {},
   "source": [
    "* The percentage of users who converted is greater than users who did not. 56>46"
   ]
  },
  {
   "cell_type": "code",
   "execution_count": 22,
   "id": "1782602b",
   "metadata": {},
   "outputs": [
    {
     "data": {
      "image/png": "[encoded data removed]",
      "text/plain": [
       "<Figure size 576x504 with 1 Axes>"
      ]
     },
     "metadata": {},
     "output_type": "display_data"
    }
   ],
   "source": [
    "plt.figure(figsize=(8,7))\n",
    "sns.boxplot(df[\"language_preferred\"],df[\"time_spent_on_the_page\"], palette=\"RdBu\",showmeans=True)\n",
    "plt.show()"
   ]
  },
  {
   "cell_type": "markdown",
   "id": "ac422787",
   "metadata": {},
   "source": [
    "* English has a higher mean compared to Spanish and French."
   ]
  },
  {
   "cell_type": "code",
   "execution_count": 23,
   "id": "af1983f2",
   "metadata": {},
   "outputs": [
    {
     "data": {
      "text/plain": [
       "<AxesSubplot:xlabel='time_spent_on_the_page', ylabel='Density'>"
      ]
     },
     "execution_count": 23,
     "metadata": {},
     "output_type": "execute_result"
    },
    {
     "data": {
      "image/png": "[encoded data removed]",
      "text/plain": [
       "<Figure size 576x504 with 1 Axes>"
      ]
     },
     "metadata": {},
     "output_type": "display_data"
    }
   ],
   "source": [
    "plt.figure(figsize=(8,7))\n",
    "sns.distplot(df['time_spent_on_the_page'])"
   ]
  },
  {
   "cell_type": "markdown",
   "id": "1d792c85",
   "metadata": {},
   "source": [
    "* Time spent by users on the different pages is a normal distribution."
   ]
  },
  {
   "cell_type": "code",
   "execution_count": 25,
   "id": "ae2b543a",
   "metadata": {},
   "outputs": [
    {
     "data": {
      "image/png": "[encoded data removed]",
      "text/plain": [
       "<Figure size 576x504 with 1 Axes>"
      ]
     },
     "metadata": {},
     "output_type": "display_data"
    }
   ],
   "source": [
    "plt.figure(figsize=(8,7))\n",
    "sns.boxplot(df['group'], df['time_spent_on_the_page'], hue=df['converted']);\n"
   ]
  },
  {
   "cell_type": "code",
   "execution_count": 26,
   "id": "cb7af97a",
   "metadata": {},
   "outputs": [
    {
     "data": {
      "image/png": "[encoded data removed]",
      "text/plain": [
       "<Figure size 720x504 with 1 Axes>"
      ]
     },
     "metadata": {},
     "output_type": "display_data"
    }
   ],
   "source": [
    "df.groupby(by=['group'])['time_spent_on_the_page'].sum().reset_index().sort_values(['time_spent_on_the_page']).tail(10).plot(x='group',\n",
    "                                                                                                           y='time_spent_on_the_page',\n",
    "                                                                                                           kind='bar',\n",
    "                                                                                                           figsize=(10,7))\n",
    "plt.show()"
   ]
  },
  {
   "cell_type": "markdown",
   "id": "8f23b1b7",
   "metadata": {},
   "source": [
    "* Users in Treatment has the highest time spent on the page."
   ]
  },
  {
   "cell_type": "code",
   "execution_count": 27,
   "id": "0dc8a518",
   "metadata": {},
   "outputs": [
    {
     "data": {
      "image/png": "[encoded data removed]",
      "text/plain": [
       "<Figure size 720x504 with 1 Axes>"
      ]
     },
     "metadata": {},
     "output_type": "display_data"
    }
   ],
   "source": [
    "plt.figure(figsize=(10,7))\n",
    "sns.barplot(data=df,x='group',y='converted',hue='landing_page')\n",
    "plt.show()"
   ]
  },
  {
   "cell_type": "markdown",
   "id": "22e2acbc",
   "metadata": {},
   "source": [
    "* Users who landed on the new landing page are mostly those from the treatment group.\n",
    "* They have higher conversion rate as show in the above."
   ]
  },
  {
   "cell_type": "markdown",
   "id": "a7e42434",
   "metadata": {},
   "source": [
    "# 2. Do the users spend more time on the new landing page than the old landing page?"
   ]
  },
  {
   "cell_type": "code",
   "execution_count": 28,
   "id": "5b7e55a8",
   "metadata": {},
   "outputs": [
    {
     "data": {
      "text/plain": [
       "<AxesSubplot:xlabel='time_spent_on_the_page', ylabel='Density'>"
      ]
     },
     "execution_count": 28,
     "metadata": {},
     "output_type": "execute_result"
    },
    {
     "data": {
      "image/png": "[encoded data removed]",
      "text/plain": [
       "<Figure size 432x288 with 1 Axes>"
      ]
     },
     "metadata": {},
     "output_type": "display_data"
    }
   ],
   "source": [
    "# a density plot of time spent on the page\n",
    "sns.distplot(df['time_spent_on_the_page'],kde=True,rug=True)"
   ]
  },
  {
   "cell_type": "markdown",
   "id": "7c138429",
   "metadata": {},
   "source": [
    "* The time spent on the page by user is normally distributed."
   ]
  },
  {
   "cell_type": "markdown",
   "id": "d2100844",
   "metadata": {},
   "source": [
    "### Let's define the null and alternate hypotheses"
   ]
  },
  {
   "cell_type": "markdown",
   "id": "9b2a41e6",
   "metadata": {},
   "source": [
    "Let $\\mu$ be the mean time spent on the landing page\n",
    ">$H_0: \\mu = 5.37$\n",
    "\n",
    "against the alternate hypothesis\n",
    "\n",
    "> $H_a: \\mu > 5.37$"
   ]
  },
  {
   "cell_type": "markdown",
   "id": "aa806ee6",
   "metadata": {},
   "source": [
    "### Let's test whether the T-test assumptions are satisfied or not\n",
    "\n",
    "* Continuous data - Yes, the delivery time is measured on a continuous scale.\n",
    "\n",
    "*   Normally distributed population and Sample size < 30 - Yes, it is assumed that the population is normal and the sample size is 25 which is less than 30.\n",
    "*   Observations are from a simple random sample - Yes, we are informed that the collected sample a simple random sample.\n",
    "*   Population standard deviation is known - No\n",
    "\n",
    "From the above we can see T-test is for this problem."
   ]
  },
  {
   "cell_type": "markdown",
   "id": "e44c3e0a",
   "metadata": {},
   "source": [
    "### Let's find the p-value"
   ]
  },
  {
   "cell_type": "code",
   "execution_count": 29,
   "id": "0804ae02",
   "metadata": {},
   "outputs": [
    {
     "name": "stdout",
     "output_type": "stream",
     "text": [
      "The p-value is  0.4869507017021549\n",
      "The test statistic is  0.032798382203392824\n"
     ]
    }
   ],
   "source": [
    "#import the required functions\n",
    "from scipy.stats import ttest_1samp\n",
    "\n",
    "# calculate the test statistic and p-value\n",
    "test_stat, p_value = ttest_1samp(df['time_spent_on_the_page'], popmean = 5.37, alternative = 'greater')\n",
    "print('The p-value is ', p_value)\n",
    "print('The test statistic is ', test_stat)"
   ]
  },
  {
   "cell_type": "markdown",
   "id": "f0aa9ccc",
   "metadata": {},
   "source": [
    "# Insight\n",
    "As the p-value is greater than the level of significance(0.05), we fail to reject the null hypothesis. Hence, the time spent on the new landing page is same as the old landing page."
   ]
  },
  {
   "cell_type": "markdown",
   "id": "1710fe41",
   "metadata": {},
   "source": [
    "# 3. Is the conversion rate (the proportion of users who visit the landing page and get converted) for the new page greater than the conversion rate for the old page?"
   ]
  },
  {
   "cell_type": "code",
   "execution_count": 30,
   "id": "dd12921c",
   "metadata": {},
   "outputs": [
    {
     "data": {
      "text/plain": [
       "Text(0.5, 1.0, 'Converted Users vs Landing page')"
      ]
     },
     "execution_count": 30,
     "metadata": {},
     "output_type": "execute_result"
    },
    {
     "data": {
      "image/png": "[encoded data removed]",
      "text/plain": [
       "<Figure size 648x360 with 1 Axes>"
      ]
     },
     "metadata": {},
     "output_type": "display_data"
    }
   ],
   "source": [
    "# Showing relationship between converted and landing page\n",
    "\n",
    "sns.set_palette(\"muted\")\n",
    "plt.figure(figsize=(9,5))\n",
    "ax = sns.countplot(x = 'converted', data = df, hue = 'landing_page')\n",
    "ax.set_title(\"Converted Users vs Landing page\", fontsize=14)"
   ]
  },
  {
   "cell_type": "markdown",
   "id": "c8e08433",
   "metadata": {},
   "source": [
    "### Let's define the null and alternative hypothesis\n",
    "Let $p$ be the the proportion of users who visit the landing page and get converted.\n",
    "\n",
    "The null hypothesis\n",
    "\n",
    ">$H_0:p \\leq 0.5$\n",
    "\n",
    "against the alternate hypothesis\n",
    "\n",
    ">$H_a:p > 0.5$"
   ]
  },
  {
   "cell_type": "code",
   "execution_count": 31,
   "id": "30dddd87",
   "metadata": {},
   "outputs": [
    {
     "name": "stdout",
     "output_type": "stream",
     "text": [
      "The p-value is 0.5\n"
     ]
    }
   ],
   "source": [
    "# import the required fuction\n",
    "from statsmodels.stats.proportion import proportions_ztest\n",
    "\n",
    "# find the p-value\n",
    "test_stat, p_value = proportions_ztest(50, 100, value = 0.5, alternative = 'larger')\n",
    "print('The p-value is ' + str(p_value))"
   ]
  },
  {
   "cell_type": "markdown",
   "id": "a1679517",
   "metadata": {},
   "source": [
    "# Insight\n",
    "As the p_value 0.5 is greater than level of significance (0.05), we cannot reject the hypothesis. Hence, there is not enough statistical significance that users converting to the new landing page is greater than that of the old page."
   ]
  },
  {
   "cell_type": "markdown",
   "id": "3bc96c6c",
   "metadata": {},
   "source": [
    "# 4. Does the converted status depend on the preferred language? "
   ]
  },
  {
   "cell_type": "markdown",
   "id": "ef2afcaa",
   "metadata": {},
   "source": [
    "**Let's the relationship of users who are converted and their preferred language.**"
   ]
  },
  {
   "cell_type": "code",
   "execution_count": 32,
   "id": "1d5d3599",
   "metadata": {},
   "outputs": [
    {
     "data": {
      "image/png": "[encoded data removed]",
      "text/plain": [
       "<Figure size 720x504 with 1 Axes>"
      ]
     },
     "metadata": {},
     "output_type": "display_data"
    }
   ],
   "source": [
    "df.groupby(by=['language_preferred'])['converted'].sum().reset_index().sort_values(['converted']).tail(10).plot(x='language_preferred',\n",
    "                                                                                                           y='converted',\n",
    "                                                                                                           kind='bar',\n",
    "                                                                                                           figsize=(10,7))\n",
    "plt.show()"
   ]
  },
  {
   "cell_type": "markdown",
   "id": "952137a7",
   "metadata": {},
   "source": [
    "* Frome the above, users with English as their preferred language are most converted.\n",
    "* While French has least conversion number."
   ]
  },
  {
   "cell_type": "markdown",
   "id": "4f787189",
   "metadata": {},
   "source": [
    "#### Creating a contigency table using the pandas.crosstab() function"
   ]
  },
  {
   "cell_type": "code",
   "execution_count": 33,
   "id": "e6866672",
   "metadata": {},
   "outputs": [],
   "source": [
    "# I would use a random sample by choosing the head and the tail of the dataset.\n",
    "a = np.array([\"no\",\"yes\",\"no\",\"no\",\"yes\",\"no\",\"yes\",\"yes\",\"yes\",\"yes\"])\n",
    "b = np.array([\"Spanish\",\"English\",\"Spanish\",\"French\",\"Spanish\",\"Spanish\",\"English\",\"Spanish\",\"Spanish\",\"English\"])"
   ]
  },
  {
   "cell_type": "code",
   "execution_count": 34,
   "id": "2941a3f5",
   "metadata": {},
   "outputs": [],
   "source": [
    "df2 = pd.DataFrame({'a': [\"no\",\"yes\",\"no\",\"no\",\"yes\",\"no\",\"yes\",\"yes\",\"yes\",\"yes\"],\n",
    "                   'b': [\"Spanish\",\"English\",\"Spanish\",\"French\",\"Spanish\",\"Spanish\",\"English\",\"Spanish\",\"Spanish\",\"English\"]})"
   ]
  },
  {
   "cell_type": "code",
   "execution_count": 35,
   "id": "d3eab267",
   "metadata": {},
   "outputs": [
    {
     "data": {
      "text/html": [
       "<div>\n",
       "<style scoped>\n",
       "    .dataframe tbody tr th:only-of-type {\n",
       "        vertical-align: middle;\n",
       "    }\n",
       "\n",
       "    .dataframe tbody tr th {\n",
       "        vertical-align: top;\n",
       "    }\n",
       "\n",
       "    .dataframe thead th {\n",
       "        text-align: right;\n",
       "    }\n",
       "</style>\n",
       "<table border=\"1\" class=\"dataframe\">\n",
       "  <thead>\n",
       "    <tr style=\"text-align: right;\">\n",
       "      <th>b</th>\n",
       "      <th>English</th>\n",
       "      <th>French</th>\n",
       "      <th>Spanish</th>\n",
       "      <th>All</th>\n",
       "    </tr>\n",
       "    <tr>\n",
       "      <th>a</th>\n",
       "      <th></th>\n",
       "      <th></th>\n",
       "      <th></th>\n",
       "      <th></th>\n",
       "    </tr>\n",
       "  </thead>\n",
       "  <tbody>\n",
       "    <tr>\n",
       "      <th>no</th>\n",
       "      <td>0</td>\n",
       "      <td>1</td>\n",
       "      <td>3</td>\n",
       "      <td>4</td>\n",
       "    </tr>\n",
       "    <tr>\n",
       "      <th>yes</th>\n",
       "      <td>3</td>\n",
       "      <td>0</td>\n",
       "      <td>3</td>\n",
       "      <td>6</td>\n",
       "    </tr>\n",
       "    <tr>\n",
       "      <th>All</th>\n",
       "      <td>3</td>\n",
       "      <td>1</td>\n",
       "      <td>6</td>\n",
       "      <td>10</td>\n",
       "    </tr>\n",
       "  </tbody>\n",
       "</table>\n",
       "</div>"
      ],
      "text/plain": [
       "b    English  French  Spanish  All\n",
       "a                                 \n",
       "no         0       1        3    4\n",
       "yes        3       0        3    6\n",
       "All        3       1        6   10"
      ]
     },
     "execution_count": 35,
     "metadata": {},
     "output_type": "execute_result"
    }
   ],
   "source": [
    "pd.crosstab(index=df2[\"a\"], columns=df2[\"b\"], margins=True)"
   ]
  },
  {
   "cell_type": "markdown",
   "id": "25b4ae37",
   "metadata": {},
   "source": [
    "# Observations:\n",
    "* 3 users converted because Spanish is a preferred language and 3 users did not convert\n",
    "* 3 users converted because of English as a language_preferred\n",
    "* 1 user did not convert and no user converted because of French language\n",
    "\n",
    "6 users converted while 4 did not due to language preference. We can say users convert based on their language preference."
   ]
  },
  {
   "cell_type": "markdown",
   "id": "902906e3",
   "metadata": {},
   "source": [
    "# 5. Is the mean time spent on the new page same for the different language users?"
   ]
  },
  {
   "cell_type": "code",
   "execution_count": 36,
   "id": "b6090c83",
   "metadata": {},
   "outputs": [
    {
     "data": {
      "text/plain": [
       "<AxesSubplot:xlabel='language_preferred', ylabel='time_spent_on_the_page'>"
      ]
     },
     "execution_count": 36,
     "metadata": {},
     "output_type": "execute_result"
    },
    {
     "data": {
      "image/png": "[encoded data removed]",
      "text/plain": [
       "<Figure size 432x288 with 1 Axes>"
      ]
     },
     "metadata": {},
     "output_type": "display_data"
    }
   ],
   "source": [
    "# Showing the relationship between time spent on the new page and language preferred\n",
    "sns.pointplot(df['language_preferred'],df['time_spent_on_the_page'])"
   ]
  },
  {
   "cell_type": "markdown",
   "id": "48b76b14",
   "metadata": {},
   "source": [
    "* More users with English as their preferred language spent more time on the new page."
   ]
  },
  {
   "cell_type": "markdown",
   "id": "70d96338",
   "metadata": {},
   "source": [
    "### Let's define the null and alternative hypothesis\n",
    "\n",
    "Let $\\mu_1, \\mu_2, \\mu_3$ be the means of the preferred languages Spanish, English and French.\n",
    "\n",
    "We will test the null hypothesis\n",
    "\n",
    ">$H_0: \\mu_1 = \\mu_2 = \\mu_3$\n",
    "\n",
    "against the alternative hypothesis\n",
    "\n",
    ">$H_a: $ At least one preferred language is different from the rest."
   ]
  },
  {
   "cell_type": "code",
   "execution_count": 37,
   "id": "cc860f7b",
   "metadata": {},
   "outputs": [
    {
     "name": "stdout",
     "output_type": "stream",
     "text": [
      "language_preferred\n",
      "English    5.559063\n",
      "French     5.253235\n",
      "Spanish    5.331765\n",
      "Name: time_spent_on_the_page, dtype: float64\n"
     ]
    },
    {
     "data": {
      "image/png": "[encoded data removed]",
      "text/plain": [
       "<Figure size 720x504 with 1 Axes>"
      ]
     },
     "metadata": {},
     "output_type": "display_data"
    }
   ],
   "source": [
    "# mean time for the preferred languages\n",
    "print(df.groupby(\"language_preferred\")[\"time_spent_on_the_page\"].mean())\n",
    "\n",
    "# draw the boxplot for visualization \n",
    "fig, ax = plt.subplots(figsize = (10,7))\n",
    "a = sns.boxplot(x= \"language_preferred\", y = 'time_spent_on_the_page' , data = df, hue = 'language_preferred')\n",
    "a.set_title(\"Mean time for the language preferred (3 levels)\", fontsize=15)\n",
    "plt.show()"
   ]
  },
  {
   "cell_type": "markdown",
   "id": "fa32d953",
   "metadata": {},
   "source": [
    "Now, the normality and equality of variance assumptions need to be checked. \n",
    "\n",
    "* For testing of normality, Shapiro-Wilk’s test is applied to the response variable.\n",
    "\n",
    "* For equality of variance, Levene test is applied to the response variable."
   ]
  },
  {
   "cell_type": "markdown",
   "id": "ea6a1c0e",
   "metadata": {},
   "source": [
    "### Shapiro-Wilk’s test\n",
    "\n",
    "We will test the null hypothesis\n",
    "\n",
    ">$H_0:$ Language Preferred follows a normal distribution against\n",
    "\n",
    "against the alternative hypothesis\n",
    "\n",
    ">$H_a:$ Language Preferred does not follow a normal distribution"
   ]
  },
  {
   "cell_type": "code",
   "execution_count": 38,
   "id": "ecdb01c3",
   "metadata": {},
   "outputs": [
    {
     "name": "stdout",
     "output_type": "stream",
     "text": [
      "The p-value is 0.5643684267997742\n"
     ]
    }
   ],
   "source": [
    "# Assumption 1: Normality\n",
    "# import the required function\n",
    "from scipy import stats\n",
    "\n",
    "# find the p-value\n",
    "w, p_value = stats.shapiro(df['time_spent_on_the_page']) \n",
    "print('The p-value is', p_value)"
   ]
  },
  {
   "cell_type": "markdown",
   "id": "9424f447",
   "metadata": {},
   "source": [
    "* Since p-value of the test is very large, we fail to reject the null hypothesis that the response follows the normal distribution."
   ]
  },
  {
   "cell_type": "markdown",
   "id": "7d4b362b",
   "metadata": {},
   "source": [
    "### Levene’s test\n",
    "\n",
    "We will test the null hypothesis\n",
    "\n",
    ">$H_0$: The variance for all 3 preferred lanaguages are equal\n",
    "\n",
    "against the alternative hypothesis\n",
    "\n",
    ">$H_a$: At least one variance is different from the rest"
   ]
  },
  {
   "cell_type": "code",
   "execution_count": 39,
   "id": "3c44494b",
   "metadata": {},
   "outputs": [
    {
     "name": "stdout",
     "output_type": "stream",
     "text": [
      "The p-value is 0.06515086840327314\n"
     ]
    }
   ],
   "source": [
    "#Assumption 2: Homogeneity of Variance\n",
    "#import the required function\n",
    "from scipy.stats import levene\n",
    "statistic, p_value = levene( df['time_spent_on_the_page'][df['language_preferred']==\"Spanish\"], \n",
    "                                   df['time_spent_on_the_page'][df['language_preferred']==\"French\"], \n",
    "                                   df['time_spent_on_the_page'][df['language_preferred']==\"English\"])\n",
    "# find the p-value\n",
    "print('The p-value is', p_value)"
   ]
  },
  {
   "cell_type": "markdown",
   "id": "86af3460",
   "metadata": {},
   "source": [
    "* Since the p-value is greater than level of significance (0.05), we fail to reject the null hypothesis of homogeneity of variances.\n",
    "* The 3 languages have equal variances."
   ]
  },
  {
   "cell_type": "markdown",
   "id": "07f028cc",
   "metadata": {},
   "source": [
    "### Let's test whether the assumptions are satisfied or not\n",
    "\n",
    "* The populations are normally distributed - Yes, the normality assumption is verified using the Shapiro-Wilk’s test.\n",
    "* Samples are independent simple random samples - Yes, we are informed that the collected sample is a simple random sample.\n",
    "* Population variances are equal - Yes, the homogeneity of variance assumption is verified using the Levene's test."
   ]
  },
  {
   "cell_type": "markdown",
   "id": "5b76e67d",
   "metadata": {},
   "source": [
    "### Let's find the p-value"
   ]
  },
  {
   "cell_type": "code",
   "execution_count": 40,
   "id": "9c4fc5e2",
   "metadata": {},
   "outputs": [
    {
     "name": "stdout",
     "output_type": "stream",
     "text": [
      "The p-value is 0.8665610536012648\n"
     ]
    }
   ],
   "source": [
    "#import the required function\n",
    "from scipy.stats import f_oneway\n",
    "\n",
    "# perform one-way anova test\n",
    "test_stat, p_value = f_oneway(df.loc[df['language_preferred'] == 'Spanish', 'time_spent_on_the_page'],\n",
    "                              df.loc[df['language_preferred'] == 'French', 'time_spent_on_the_page'],\n",
    "                              df.loc[df['language_preferred'] == 'English', 'time_spent_on_the_page'])\n",
    "print('The p-value is ' + str(p_value))"
   ]
  },
  {
   "cell_type": "markdown",
   "id": "b97514be",
   "metadata": {},
   "source": [
    "### Insight\n",
    "As the p-value is much greater than the significance level, we fail to reject the null hypothesis. Thus, having enough statistical significance to conclude that at least the mean of one preferred language is different from the rest at 5% significance level."
   ]
  },
  {
   "cell_type": "markdown",
   "id": "3117a272",
   "metadata": {},
   "source": [
    "# Conclusion \n",
    "Due to the p-values being greater we will fail to reject the null and conclude the following:\n",
    "\n",
    "- The time spent on the new landing page is same as the old landing page.\n",
    "- There is not enough statistical significance that users converting to the new landing page is greater than that of the old page.\n",
    "- More users convert based on their language preference.\n",
    "- There is enough statistical significance to conclude that at least the mean of one preferred language is different from the rest at 5% significance level."
   ]
  },
  {
   "cell_type": "markdown",
   "id": "51b6301a",
   "metadata": {},
   "source": [
    "# Recommendation\n",
    "- At the end of every session a user logs in, a feedback form should be display to get the experience of the user.\n",
    "- Feedbacks are collated and it becomes visible what can be done the users like and don't like.\n",
    "- Improving the interface of the new page to make it user friendly for Spanish and English user. They have the lowest conversion rate."
   ]
  },
  {
   "cell_type": "code",
   "execution_count": null,
   "id": "7134eee8",
   "metadata": {},
   "outputs": [],
   "source": []
  },
  {
   "cell_type": "code",
   "execution_count": null,
   "id": "3aaa568b",
   "metadata": {},
   "outputs": [],
   "source": []
  },
  {
   "cell_type": "code",
   "execution_count": null,
   "id": "7d736661",
   "metadata": {},
   "outputs": [],
   "source": []
  },
  {
   "cell_type": "code",
   "execution_count": null,
   "id": "9d02e514",
   "metadata": {},
   "outputs": [],
   "source": []
  },
  {
   "cell_type": "code",
   "execution_count": null,
   "id": "7c0dca3c",
   "metadata": {},
   "outputs": [],
   "source": []
  },
  {
   "cell_type": "code",
   "execution_count": null,
   "id": "4a54cac1",
   "metadata": {},
   "outputs": [],
   "source": []
  }
 ],
 "metadata": {
  "kernelspec": {
   "display_name": "Python 3",
   "language": "python",
   "name": "python3"
  },
  "language_info": {
   "codemirror_mode": {
    "name": "ipython",
    "version": 3
   },
   "file_extension": ".py",
   "mimetype": "text/x-python",
   "name": "python",
   "nbconvert_exporter": "python",
   "pygments_lexer": "ipython3",
   "version": "3.8.8"
  }
 },
 "nbformat": 4,
 "nbformat_minor": 5
}
